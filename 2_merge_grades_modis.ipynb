{
 "cells": [
  {
   "cell_type": "code",
   "execution_count": 1,
   "id": "42ec39b7-1405-4fab-bcf7-ab4c9ad71281",
   "metadata": {},
   "outputs": [
    {
     "name": "stdout",
     "output_type": "stream",
     "text": [
      "28\n",
      "54\n"
     ]
    },
    {
     "data": {
      "text/plain": [
       "['/work/pi_kandread_umass_edu/Cloud_Freq/data/MODIS/by_discharge_level2/MERIT_MODIS_Basin56_1_stratified_discharge.csv',\n",
       " '/work/pi_kandread_umass_edu/Cloud_Freq/data/MODIS/by_discharge_level2/MERIT_MODIS_Basin57_1_stratified_discharge.csv',\n",
       " '/work/pi_kandread_umass_edu/Cloud_Freq/data/MODIS/by_discharge_level2/MERIT_MODIS_Basin61_1_stratified_discharge.csv',\n",
       " '/work/pi_kandread_umass_edu/Cloud_Freq/data/MODIS/by_discharge_level2/MERIT_MODIS_Basin61_2_stratified_discharge.csv',\n",
       " '/work/pi_kandread_umass_edu/Cloud_Freq/data/MODIS/by_discharge_level2/MERIT_MODIS_Basin62_1_stratified_discharge.csv',\n",
       " '/work/pi_kandread_umass_edu/Cloud_Freq/data/MODIS/by_discharge_level2/MERIT_MODIS_Basin62_2_stratified_discharge.csv',\n",
       " '/work/pi_kandread_umass_edu/Cloud_Freq/data/MODIS/by_discharge_level2/MERIT_MODIS_Basin63_1_stratified_discharge.csv',\n",
       " '/work/pi_kandread_umass_edu/Cloud_Freq/data/MODIS/by_discharge_level2/MERIT_MODIS_Basin64_1_stratified_discharge.csv',\n",
       " '/work/pi_kandread_umass_edu/Cloud_Freq/data/MODIS/by_discharge_level2/MERIT_MODIS_Basin64_2_stratified_discharge.csv',\n",
       " '/work/pi_kandread_umass_edu/Cloud_Freq/data/MODIS/by_discharge_level2/MERIT_MODIS_Basin65_1_stratified_discharge.csv',\n",
       " '/work/pi_kandread_umass_edu/Cloud_Freq/data/MODIS/by_discharge_level2/MERIT_MODIS_Basin66_1_stratified_discharge.csv',\n",
       " '/work/pi_kandread_umass_edu/Cloud_Freq/data/MODIS/by_discharge_level2/MERIT_MODIS_Basin67_1_stratified_discharge.csv',\n",
       " '/work/pi_kandread_umass_edu/Cloud_Freq/data/MODIS/by_discharge_level2/MERIT_MODIS_Basin71_1_stratified_discharge.csv',\n",
       " '/work/pi_kandread_umass_edu/Cloud_Freq/data/MODIS/by_discharge_level2/MERIT_MODIS_Basin72_1_stratified_discharge.csv',\n",
       " '/work/pi_kandread_umass_edu/Cloud_Freq/data/MODIS/by_discharge_level2/MERIT_MODIS_Basin73_1_stratified_discharge.csv',\n",
       " '/work/pi_kandread_umass_edu/Cloud_Freq/data/MODIS/by_discharge_level2/MERIT_MODIS_Basin74_1_stratified_discharge.csv',\n",
       " '/work/pi_kandread_umass_edu/Cloud_Freq/data/MODIS/by_discharge_level2/MERIT_MODIS_Basin74_2_stratified_discharge.csv',\n",
       " '/work/pi_kandread_umass_edu/Cloud_Freq/data/MODIS/by_discharge_level2/MERIT_MODIS_Basin75_1_stratified_discharge.csv',\n",
       " '/work/pi_kandread_umass_edu/Cloud_Freq/data/MODIS/by_discharge_level2/MERIT_MODIS_Basin76_1_stratified_discharge.csv',\n",
       " '/work/pi_kandread_umass_edu/Cloud_Freq/data/MODIS/by_discharge_level2/MERIT_MODIS_Basin77_1_stratified_discharge.csv',\n",
       " '/work/pi_kandread_umass_edu/Cloud_Freq/data/MODIS/by_discharge_level2/MERIT_MODIS_Basin78_1_stratified_discharge.csv',\n",
       " '/work/pi_kandread_umass_edu/Cloud_Freq/data/MODIS/by_discharge_level2/MERIT_MODIS_Basin81_1_stratified_discharge.csv',\n",
       " '/work/pi_kandread_umass_edu/Cloud_Freq/data/MODIS/by_discharge_level2/MERIT_MODIS_Basin82_1_stratified_discharge.csv',\n",
       " '/work/pi_kandread_umass_edu/Cloud_Freq/data/MODIS/by_discharge_level2/MERIT_MODIS_Basin83_1_stratified_discharge.csv',\n",
       " '/work/pi_kandread_umass_edu/Cloud_Freq/data/MODIS/by_discharge_level2/MERIT_MODIS_Basin84_1_stratified_discharge.csv',\n",
       " '/work/pi_kandread_umass_edu/Cloud_Freq/data/MODIS/by_discharge_level2/MERIT_MODIS_Basin85_1_stratified_discharge.csv',\n",
       " '/work/pi_kandread_umass_edu/Cloud_Freq/data/MODIS/by_discharge_level2/MERIT_MODIS_Basin86_1_stratified_discharge.csv',\n",
       " '/work/pi_kandread_umass_edu/Cloud_Freq/data/MODIS/by_discharge_level2/MERIT_MODIS_Basin91_1_stratified_discharge.csv']"
      ]
     },
     "execution_count": 1,
     "metadata": {},
     "output_type": "execute_result"
    }
   ],
   "source": [
    "import os\n",
    "import pandas as pd\n",
    "import geopandas as gpd\n",
    "import xarray as xr\n",
    "from tqdm import tqdm\n",
    "from glob import glob\n",
    "import re\n",
    "import csv\n",
    "\n",
    "# File where we will save processed data\n",
    "parquet_file = '/work/pi_kandread_umass_edu/Cloud_Freq/data/grades_level2.parquet'\n",
    "\n",
    "# Read in the log of files that have already been added to the parquet record\n",
    "processed_log = \"/work/pi_kandread_umass_edu/Cloud_Freq/data/MODIS/processed_log_level2.csv\"\n",
    "processed_files = []\n",
    "if os.path.exists(processed_log):\n",
    "    # Open the CSV file in read mode\n",
    "    with open(processed_log, mode='r', newline='') as file:\n",
    "        reader = csv.reader(file)\n",
    "        # Read each row in the CSV file\n",
    "        for row in reader:\n",
    "            # Append the file name (which is the first and only element in each row) to the list\n",
    "            processed_files.append(row[0])\n",
    "            \n",
    "modis_file_list = glob('/work/pi_kandread_umass_edu/Cloud_Freq/data/MODIS/by_discharge_level2/MERIT_MODIS*.csv')\n",
    "era5_file_list = glob('/work/pi_kandread_umass_edu/Cloud_Freq/data/ERA5/by_discharge_level2/ERA5*.csv')\n",
    "\n",
    "# Remove files that have already been processed from this list\n",
    "modis_files = [x for x in modis_file_list if x not in processed_files]\n",
    "print(len(modis_files))\n",
    "\n",
    "print(len(era5_file_list))\n",
    "\n",
    "modis_files"
   ]
  },
  {
   "cell_type": "code",
   "execution_count": 2,
   "id": "cec1f59b-5637-452f-b346-0799843d1948",
   "metadata": {},
   "outputs": [
    {
     "name": "stderr",
     "output_type": "stream",
     "text": [
      "100%|██████████| 28/28 [25:12<00:00, 54.01s/it]  "
     ]
    },
    {
     "name": "stdout",
     "output_type": "stream",
     "text": [
      "Done!\n"
     ]
    },
    {
     "name": "stderr",
     "output_type": "stream",
     "text": [
      "\n"
     ]
    }
   ],
   "source": [
    "time_slice = slice('2000-02-24', '2023-08-31') #Joint MODIS/GRADES availability\n",
    "basin_id_pattern = r\"Basin(\\d+)_\"\n",
    "\n",
    "for modis_file in tqdm(modis_files):\n",
    "    l2_basin = int(re.search(basin_id_pattern, modis_file).group(1))\n",
    "    l1_basin = l2_basin//10\n",
    "    \n",
    "    # Read in the era5 files for this l2 basin\n",
    "    era5_files = [x for x in era5_file_list if str(l2_basin) in x]\n",
    "    \n",
    "    if not era5_files:\n",
    "        #Empty list\n",
    "        continue\n",
    "    \n",
    "    df_list = [pd.read_csv(csv_file) for csv_file in era5_files]\n",
    "    era5 = pd.concat(df_list, ignore_index=True)\n",
    "    era5['date_string'] = (era5['system:index']\n",
    "                                .str.split('_')\n",
    "                                .str[1:]\n",
    "                                .apply(lambda x: ''.join(x)))\n",
    "    era5['date'] = pd.to_datetime(era5['date_string'], format='%Y%m%d')\n",
    "    \n",
    "    multi_index = pd.MultiIndex.from_arrays([era5.date, era5.COMID], names=['time', 'id'])\n",
    "    era5 = era5.set_index(multi_index)['temperature_2m']\n",
    "\n",
    "    # Read in the MODIS data\n",
    "    modis = pd.read_csv(modis_file)\n",
    "    modis['date_string'] = (modis['system:index']\n",
    "                            .str.split('_')\n",
    "                            .str[2:]\n",
    "                            .apply(lambda x: ''.join(x)))\n",
    "    modis['date'] = pd.to_datetime(modis['date_string'], format='%Y%m%d')\n",
    "\n",
    "    multi_index = pd.MultiIndex.from_arrays([modis.date, modis.COMID], names=['time', 'id'])\n",
    "    modis = modis.set_index(multi_index)['cloudMask']\n",
    "    \n",
    "    modis_id_list = list(set(modis.index.get_level_values('id')))\n",
    "     \n",
    "    # Read in GRADES data\n",
    "    grades_file = f'/work/pi_kandread_umass_edu/Datasets/GRADES_hydroDL/output_pfaf_{l1_basin:02.0f}_1979_202308.nc'\n",
    "    with xr.open_dataset(grades_file) as grades:\n",
    "        selected_data = grades.sel(time=time_slice, rivid=modis_id_list)\n",
    "    grades_df = selected_data.to_dataframe()\n",
    "    grades_df = grades_df.rename(columns={'Qout':'Q','rivid':'id'})\n",
    "    grades_df.index = grades_df.index.rename(['time','id'])\n",
    "\n",
    "    tmp = modis.to_frame().join([era5, grades_df],how='left')\n",
    "    \n",
    "    if not os.path.exists(parquet_file):\n",
    "        tmp.to_parquet(parquet_file, engine='fastparquet')\n",
    "    else:\n",
    "        tmp.to_parquet(parquet_file, engine='fastparquet', append=True)\n",
    "        \n",
    "    # Add the processed filename to our log\n",
    "    with open(processed_log, mode='a', newline='') as log:\n",
    "        writer = csv.writer(log)\n",
    "        writer.writerow([modis_file])\n",
    "\n",
    "print('Done!')"
   ]
  }
 ],
 "metadata": {
  "kernelspec": {
   "display_name": "Earth Engine",
   "language": "python",
   "name": "ee"
  },
  "language_info": {
   "codemirror_mode": {
    "name": "ipython",
    "version": 3
   },
   "file_extension": ".py",
   "mimetype": "text/x-python",
   "name": "python",
   "nbconvert_exporter": "python",
   "pygments_lexer": "ipython3",
   "version": "3.12.1"
  }
 },
 "nbformat": 4,
 "nbformat_minor": 5
}
