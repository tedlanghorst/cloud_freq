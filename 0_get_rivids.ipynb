{
 "cells": [
  {
   "cell_type": "code",
   "execution_count": 1,
   "id": "bb036f6b-028a-4455-a0b9-364b80d3e1f9",
   "metadata": {},
   "outputs": [],
   "source": [
    "import os\n",
    "import numpy as np\n",
    "import pandas as pd\n",
    "import geopandas as gpd\n",
    "import xarray as xr\n",
    "\n",
    "%matplotlib widget\n",
    "import matplotlib.pyplot as plt\n",
    "from pathlib import Path\n",
    "from tqdm import tqdm\n",
    "from shapely.geometry import Point\n",
    "\n",
    "csv_file = 'data/grades_rivids_stratified_discharge_level2_sample.csv'\n",
    "\n",
    "datasets = Path('/work/pi_kandread_umass_edu/Datasets/')"
   ]
  },
  {
   "cell_type": "code",
   "execution_count": null,
   "id": "2e1f3e2f-f838-4903-addf-c79339673e1a",
   "metadata": {},
   "outputs": [],
   "source": [
    "# Check if the CSV file already exists and delete it\n",
    "# if os.path.exists(csv_file):\n",
    "#     os.remove(csv_file)\n",
    "\n",
    "time_slice = slice('2000-02-24', '2023-08-31')\n",
    "sample_size = 100 # Define the sample size for each stratum\n",
    "bin_edges = np.logspace(0,6,7)\n",
    "pfafs = range(1,10)\n",
    "for pfaf in pfafs:\n",
    "    print(f\"Basins {pfaf}\")\n",
    "    grades_file = datasets / 'GRADES_hydroDL' / f'output_pfaf_{pfaf:02.0f}_1979_202308.nc'\n",
    "    merit_file = datasets / 'MERIT_Basins' / f'riv_pfaf_{pfaf:1.0f}_MERIT_Hydro_v07_Basins_v01_bugfix1.shp'\n",
    "    \n",
    "    print('Reading GRADES')\n",
    "    grades = xr.open_dataset(grades_file, chunks={'rivid':100000})\n",
    "    mean_values = grades.sel(time=time_slice).mean(dim='time')\n",
    "    grades.close()\n",
    "    \n",
    "    mean_values.to_netcdf(f'data/grades_pfaf_{pfaf:02.0f}_meanQ.nc')\n",
    "    mean_Q_series = mean_values['Qout'].to_series()\n",
    "\n",
    "    print('Reading MERIT')\n",
    "    merit_df = gpd.read_file(merit_file).set_index('COMID')\n",
    "    \n",
    "    print(\"Merging data\")\n",
    "    merged_df = merit_df.join(mean_Q_series)\n",
    "    merged_df = merged_df[merged_df['Qout']>1]\n",
    "    merged_df['q_bins'] = pd.cut(merged_df['Qout'], bins=bin_edges, labels=False)\n",
    "    \n",
    "    print(\"Sampling data\")\n",
    "    merged_df['l2'] = merged_df.index//1E6\n",
    "    for i,g in merged_df.groupby('l2'):\n",
    "        # Stratified sampling based on the discretized variable\n",
    "        stratified_sample = (g.groupby('q_bins', group_keys=False)\n",
    "                             .apply(lambda x: x.sample(min(len(x), sample_size)),include_groups=False))\n",
    "        \n",
    "        stratified_sample.reset_index()['COMID'].to_csv(csv_file, index=False, mode='a', header=False)\n",
    "    "
   ]
  },
  {
   "cell_type": "code",
   "execution_count": null,
   "id": "d13cb199-2187-4eb9-8eaf-f4162a8c0969",
   "metadata": {},
   "outputs": [],
   "source": [
    "plt.close('all')\n",
    "plt.hist(np.log10(merged_df.Qout),bins=np.log10(bin_edges),edgecolor='black')\n"
   ]
  },
  {
   "cell_type": "code",
   "execution_count": null,
   "id": "008e5de5-38be-4fcc-a9ca-f72fb8706019",
   "metadata": {},
   "outputs": [],
   "source": [
    "id_df = pd.read_csv(csv_file, header=None).rename(columns={0: 'id'})\n",
    "print(f\"{len((id_df.id//1E6).unique())} L2 basins\")\n",
    "print(f\"{len(id_df)} River reaches\")"
   ]
  },
  {
   "cell_type": "code",
   "execution_count": null,
   "id": "099d6462-ea42-4c42-a1b7-7a970cd4eaf5",
   "metadata": {},
   "outputs": [],
   "source": [
    "id_df = pd.read_csv(csv_file, header=None).rename(columns={0: 'id'})\n",
    "\n",
    "gdf_list = []\n",
    "pfafs = range(1,10)\n",
    "for pfaf in tqdm(pfafs):\n",
    "    merit_file = datasets / 'MERIT_Basins' / f'riv_pfaf_{pfaf:1.0f}_MERIT_Hydro_v07_Basins_v01_bugfix1.shp'\n",
    "    merit_df = gpd.read_file(merit_file)\n",
    "    merit_df = merit_df[merit_df['COMID'].isin(id_df['id'])]\n",
    "    gdf_list.append(merit_df)\n",
    "\n",
    "    \n",
    "# Concatenate GeoDataFrames along rows (axis=0)\n",
    "gdf = pd.concat(gdf_list, ignore_index=True)\n",
    "\n",
    "# Convert concatenated DataFrame back to GeoDataFrame\n",
    "gdf = gpd.GeoDataFrame(gdf, geometry='geometry')\n",
    "\n",
    "# Simplify the geometries to a point instead of polyline\n",
    "def centermost_point(line):\n",
    "    # Calculate the length of the LineString\n",
    "    total_length = line.length\n",
    "    # Find the point that is halfway along the LineString\n",
    "    halfway = total_length / 2\n",
    "    # Interpolate the point at the halfway distance along the LineString\n",
    "    center_point = line.interpolate(halfway)\n",
    "    return center_point\n",
    "\n",
    "# Apply the function to each LineString geometry to get the centermost point\n",
    "gdf['geometry'] = gdf['geometry'].apply(centermost_point)\n",
    "\n",
    "#reindex\n",
    "gdf = gdf.set_index('COMID')\n",
    "gdf.index.names = ['id']\n",
    "\n",
    "output_shapefile = 'data/MERIT_sites/merit_stratified_discharge_level2_sample.shp'\n",
    "gdf.to_file(output_shapefile)"
   ]
  },
  {
   "cell_type": "code",
   "execution_count": null,
   "id": "6c6772eb-ff7f-4414-a6c1-5f55e03e8d73",
   "metadata": {},
   "outputs": [],
   "source": [
    "output_shapefile = 'data/MERIT_sites/merit_stratified_discharge_level2_sample.shp'\n",
    "gdf = gpd.read_file(output_shapefile)"
   ]
  },
  {
   "cell_type": "code",
   "execution_count": null,
   "id": "85f18f34-07f8-401c-b86b-fe54cdbc9b77",
   "metadata": {},
   "outputs": [],
   "source": [
    "gdf.plot(markersize=2)"
   ]
  }
 ],
 "metadata": {
  "kernelspec": {
   "display_name": "Python [conda env:.conda-ee]",
   "language": "python",
   "name": "conda-env-.conda-ee-py"
  },
  "language_info": {
   "codemirror_mode": {
    "name": "ipython",
    "version": 3
   },
   "file_extension": ".py",
   "mimetype": "text/x-python",
   "name": "python",
   "nbconvert_exporter": "python",
   "pygments_lexer": "ipython3",
   "version": "3.12.1"
  }
 },
 "nbformat": 4,
 "nbformat_minor": 5
}
